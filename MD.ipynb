{
 "cells": [
  {
   "cell_type": "code",
   "execution_count": 1,
   "metadata": {},
   "outputs": [],
   "source": [
    "import mdtraj as md\n"
   ]
  },
  {
   "cell_type": "code",
   "execution_count": 12,
   "metadata": {},
   "outputs": [],
   "source": [
    "from __future__ import print_function\n",
    "%matplotlib inline\n",
    "import mdtraj as md\n",
    "import numpy as np\n",
    "import nglview as ng\n",
    "import matplotlib.pyplot as plt\n",
    "import scipy.cluster.hierarchy\n",
    "from scipy.spatial.distance import squareform"
   ]
  },
  {
   "cell_type": "code",
   "execution_count": 3,
   "metadata": {},
   "outputs": [],
   "source": [
    "traj = md.load_xyz(\"/home/akniga/TensorMol/results/MDTrajectoryZAS_md_300K.xyz\", top=\"/home/akniga/TensorMol/datasets/ZAS.pdb\")\n"
   ]
  },
  {
   "cell_type": "code",
   "execution_count": 6,
   "metadata": {},
   "outputs": [],
   "source": [
    "a = traj[1]"
   ]
  },
  {
   "cell_type": "code",
   "execution_count": 10,
   "metadata": {},
   "outputs": [
    {
     "data": {
      "text/plain": [
       "array([[[-0.1599775 ,  4.676384  ,  2.0728667 ],\n",
       "        [-0.06497211,  4.5818563 ,  2.1387892 ],\n",
       "        [ 0.04533747,  4.540343  ,  2.0314405 ],\n",
       "        [ 0.07456468,  4.6294646 ,  1.9515465 ],\n",
       "        [-0.13117306,  4.4589567 ,  2.1987898 ],\n",
       "        [-0.04018388,  4.3860345 ,  2.2945995 ],\n",
       "        [ 0.06507887,  4.425051  ,  2.3359709 ],\n",
       "        [-0.09491562,  4.2687254 ,  2.330427  ],\n",
       "        [ 0.08905803,  4.4254484 ,  2.040616  ],\n",
       "        [-0.1031735 ,  4.7389874 ,  2.015379  ],\n",
       "        [-0.00965398,  4.635058  ,  2.2148583 ],\n",
       "        [-0.16074415,  4.3868904 ,  2.121222  ],\n",
       "        [-0.22172162,  4.4850855 ,  2.2533576 ],\n",
       "        [-0.0332977 ,  4.226774  ,  2.3906517 ],\n",
       "        [-0.21533541,  4.727653  ,  2.1420908 ],\n",
       "        [-0.22274348,  4.6221843 ,  2.0109506 ]]], dtype=float32)"
      ]
     },
     "execution_count": 10,
     "metadata": {},
     "output_type": "execute_result"
    }
   ],
   "source": [
    "a.xyz"
   ]
  },
  {
   "cell_type": "code",
   "execution_count": null,
   "metadata": {},
   "outputs": [],
   "source": [
    "v = ng.sh"
   ]
  },
  {
   "cell_type": "code",
   "execution_count": 11,
   "metadata": {},
   "outputs": [
    {
     "name": "stdout",
     "output_type": "stream",
     "text": [
      "Max pairwise rmsd: 0.171627 nm\n"
     ]
    }
   ],
   "source": [
    "distances = np.empty((traj.n_frames, traj.n_frames))\n",
    "for i in range(traj.n_frames):\n",
    "    distances[i] = md.rmsd(traj, traj, i)\n",
    "print('Max pairwise rmsd: %f nm' % np.max(distances))"
   ]
  },
  {
   "cell_type": "code",
   "execution_count": null,
   "metadata": {},
   "outputs": [],
   "source": [
    "distances.T"
   ]
  },
  {
   "cell_type": "code",
   "execution_count": 15,
   "metadata": {},
   "outputs": [
    {
     "data": {
      "text/plain": [
       "array([[0.        , 0.00053209, 0.00106768, ..., 0.14096528, 0.14102258,\n",
       "        0.14108939],\n",
       "       [0.00053905, 0.        , 0.00053209, ..., 0.14105558, 0.1411126 ,\n",
       "        0.14117929],\n",
       "       [0.00106768, 0.00053905, 0.        , ..., 0.14114551, 0.14120238,\n",
       "        0.14126892],\n",
       "       ...,\n",
       "       [0.14096531, 0.14105558, 0.14114554, ..., 0.        , 0.0006284 ,\n",
       "        0.00125085],\n",
       "       [0.14102258, 0.1411126 , 0.14120238, ..., 0.0006284 , 0.        ,\n",
       "        0.00061035],\n",
       "       [0.14108939, 0.14117929, 0.14126889, ..., 0.00125085, 0.00061035,\n",
       "        0.        ]])"
      ]
     },
     "execution_count": 15,
     "metadata": {},
     "output_type": "execute_result"
    }
   ],
   "source": [
    "distances"
   ]
  },
  {
   "cell_type": "code",
   "execution_count": 14,
   "metadata": {},
   "outputs": [],
   "source": [
    "# Clustering only accepts reduced form. Squareform's checks are too stringent\n",
    "\n",
    "reduced_distances = squareform(distances, checks=False)\n",
    "\n"
   ]
  },
  {
   "cell_type": "code",
   "execution_count": 13,
   "metadata": {},
   "outputs": [],
   "source": [
    "assert np.all(distances - distances.T < 1e-4)"
   ]
  },
  {
   "cell_type": "code",
   "execution_count": 13,
   "metadata": {},
   "outputs": [],
   "source": [
    "linkage = scipy.cluster.hierarchy.linkage(reduced_distances, method='average')"
   ]
  },
  {
   "cell_type": "code",
   "execution_count": 23,
   "metadata": {},
   "outputs": [
    {
     "ename": "NameError",
     "evalue": "name 'y' is not defined",
     "output_type": "error",
     "traceback": [
      "\u001b[0;31m---------------------------------------------------------------------------\u001b[0m",
      "\u001b[0;31mNameError\u001b[0m                                 Traceback (most recent call last)",
      "\u001b[0;32m<ipython-input-23-c4a1464e053f>\u001b[0m in \u001b[0;36m<module>\u001b[0;34m\u001b[0m\n\u001b[0;32m----> 1\u001b[0;31m \u001b[0mc\u001b[0m \u001b[0;34m=\u001b[0m \u001b[0mscipy\u001b[0m\u001b[0;34m.\u001b[0m\u001b[0mcluster\u001b[0m\u001b[0;34m.\u001b[0m\u001b[0mhierarchy\u001b[0m\u001b[0;34m.\u001b[0m\u001b[0moptimal_leaf_ordering\u001b[0m\u001b[0;34m(\u001b[0m\u001b[0mlinkage\u001b[0m\u001b[0;34m,\u001b[0m \u001b[0my\u001b[0m\u001b[0;34m)\u001b[0m\u001b[0;34m\u001b[0m\u001b[0m\n\u001b[0m",
      "\u001b[0;31mNameError\u001b[0m: name 'y' is not defined"
     ]
    }
   ],
   "source": [
    "c = scipy.cluster.hierarchy."
   ]
  },
  {
   "cell_type": "code",
   "execution_count": 21,
   "metadata": {},
   "outputs": [
    {
     "name": "stdout",
     "output_type": "stream",
     "text": [
      "[[ 0]\n",
      " [ 0]\n",
      " [ 0]\n",
      " ...\n",
      " [88]\n",
      " [88]\n",
      " [88]]\n"
     ]
    }
   ],
   "source": []
  },
  {
   "cell_type": "code",
   "execution_count": 14,
   "metadata": {},
   "outputs": [
    {
     "data": {
      "image/png": "[encoded data removed]",
      "text/plain": [
       "<Figure size 432x288 with 1 Axes>"
      ]
     },
     "metadata": {
      "needs_background": "light"
     },
     "output_type": "display_data"
    }
   ],
   "source": [
    "plt.title('RMSD Average linkage hierarchical clustering')\n",
    "_ = scipy.cluster.hierarchy.dendrogram(linkage, no_labels=True, count_sort='descendent')"
   ]
  },
  {
   "cell_type": "code",
   "execution_count": 2,
   "metadata": {},
   "outputs": [],
   "source": [
    "import MDAnalysis as mda\n",
    "import nglview as nv"
   ]
  },
  {
   "cell_type": "code",
   "execution_count": 25,
   "metadata": {},
   "outputs": [
    {
     "name": "stderr",
     "output_type": "stream",
     "text": [
      "Exception ignored in: <object repr() failed>\n",
      "Traceback (most recent call last):\n",
      "  File \"/home/akniga/anaconda3/lib/python3.6/site-packages/MDAnalysis/coordinates/base.py\", line 2081, in __del__\n",
      "    for aux in self.aux_list:\n",
      "  File \"/home/akniga/anaconda3/lib/python3.6/site-packages/MDAnalysis/coordinates/base.py\", line 1748, in aux_list\n",
      "    return self._auxs.keys()\n",
      "AttributeError: 'XYZReader' object has no attribute '_auxs'\n",
      "Exception ignored in: <object repr() failed>\n",
      "Traceback (most recent call last):\n",
      "  File \"/home/akniga/anaconda3/lib/python3.6/site-packages/MDAnalysis/coordinates/base.py\", line 2081, in __del__\n",
      "    for aux in self.aux_list:\n",
      "  File \"/home/akniga/anaconda3/lib/python3.6/site-packages/MDAnalysis/coordinates/base.py\", line 1748, in aux_list\n",
      "    return self._auxs.keys()\n",
      "AttributeError: 'XYZReader' object has no attribute '_auxs'\n"
     ]
    }
   ],
   "source": [
    "b = mda.Universe(\"/home/akniga/TensorMol/results/MDTrajectoryZAS_md_300K.xyz\", format=\"XYZ\", guess_bonds=True)"
   ]
  },
  {
   "cell_type": "code",
   "execution_count": 19,
   "metadata": {},
   "outputs": [],
   "source": [
    "a = mda.coordinates.XYZ.XYZReader(\"/home/akniga/TensorMol/results/MDTrajectoryZAS_md_300K.xyz\", td=500)"
   ]
  },
  {
   "cell_type": "code",
   "execution_count": 7,
   "metadata": {},
   "outputs": [],
   "source": [
    "b =mda.Universe(\"/home/akniga/TensorMol/results/MDTrajectoryZAS_md_300K.xyz\")"
   ]
  },
  {
   "cell_type": "code",
   "execution_count": 2,
   "metadata": {},
   "outputs": [
    {
     "ename": "NameError",
     "evalue": "name 'a' is not defined",
     "output_type": "error",
     "traceback": [
      "\u001b[0;31m---------------------------------------------------------------------------\u001b[0m",
      "\u001b[0;31mNameError\u001b[0m                                 Traceback (most recent call last)",
      "\u001b[0;32m<ipython-input-2-34c95616d495>\u001b[0m in \u001b[0;36m<module>\u001b[0;34m\u001b[0m\n\u001b[0;32m----> 1\u001b[0;31m \u001b[0ma\u001b[0m\u001b[0;34m.\u001b[0m\u001b[0mn_atoms\u001b[0m\u001b[0;34m\u001b[0m\u001b[0m\n\u001b[0m",
      "\u001b[0;31mNameError\u001b[0m: name 'a' is not defined"
     ]
    }
   ],
   "source": [
    "a.n_atoms"
   ]
  },
  {
   "cell_type": "code",
   "execution_count": 5,
   "metadata": {},
   "outputs": [
    {
     "name": "stderr",
     "output_type": "stream",
     "text": [
      "/home/akniga/anaconda3/lib/python3.6/site-packages/MDAnalysis/coordinates/PDB.py:906: UserWarning: Found no information for attr: 'altLocs' Using default value of ' '\n",
      "  \"\".format(attrname, default))\n",
      "/home/akniga/anaconda3/lib/python3.6/site-packages/MDAnalysis/coordinates/PDB.py:906: UserWarning: Found no information for attr: 'resnames' Using default value of 'UNK'\n",
      "  \"\".format(attrname, default))\n",
      "/home/akniga/anaconda3/lib/python3.6/site-packages/MDAnalysis/coordinates/PDB.py:906: UserWarning: Found no information for attr: 'icodes' Using default value of ' '\n",
      "  \"\".format(attrname, default))\n",
      "/home/akniga/anaconda3/lib/python3.6/site-packages/MDAnalysis/coordinates/PDB.py:906: UserWarning: Found no information for attr: 'occupancies' Using default value of '1.0'\n",
      "  \"\".format(attrname, default))\n",
      "/home/akniga/anaconda3/lib/python3.6/site-packages/MDAnalysis/coordinates/PDB.py:906: UserWarning: Found no information for attr: 'tempfactors' Using default value of '0.0'\n",
      "  \"\".format(attrname, default))\n"
     ]
    }
   ],
   "source": [
    "w = nv.show_mdanalysis(a)\n"
   ]
  },
  {
   "cell_type": "code",
   "execution_count": 22,
   "metadata": {},
   "outputs": [],
   "source": [
    "!cd /home/akniga/Downloads"
   ]
  },
  {
   "cell_type": "code",
   "execution_count": 23,
   "metadata": {},
   "outputs": [
    {
     "name": "stdout",
     "output_type": "stream",
     "text": [
      "0.1.tar.gz\t\t NEB\r\n",
      "30147_0001.pdb\t\t networks\r\n",
      "31213_0001.pdb\t\t networks.tar.gz\r\n",
      "3d2m.cif\t\t nohup.out\r\n",
      "41398_0001.pdb\t\t Pictures\r\n",
      "43434_0001.pdb\t\t pixiedust.db\r\n",
      "43752_0001.pdb\t\t pomegranat1.ipynb\r\n",
      "45584_0001.pdb\t\t Probis_H2O\r\n",
      "46254_0001.pdb\t\t Public\r\n",
      "46276_0001.pdb\t\t pylib\r\n",
      "47778_0001.pdb\t\t pyrosetta\r\n",
      "48393_0001.pdb\t\t PyRosetta4.Release.python36.linux.release\r\n",
      "ACO_0_A_1mjb.pdb\t pyscf\r\n",
      "aco.chk\t\t\t results\r\n",
      "ACO.fa.params\t\t rosetta\r\n",
      "ACO.fa.tors\t\t rosetta_3.9\r\n",
      "ACO_GP.fa.params\t rosetta_cm\r\n",
      "aco_opt.out\t\t rosetta_src_2018.21.60230_bundle\r\n",
      "aco_opt.py\t\t rosetta_src_2018.21.60230_bundle.tgz\r\n",
      "aco.params\t\t rosy.tar.gz\r\n",
      "anaconda3\t\t scine_autocas_linux\r\n",
      "A_S.gz_00498.pdb\t scine_autocas_linux.tar.bz2\r\n",
      "backup\t\t\t scratch\r\n",
      "backup.tar.gz\t\t scripts\r\n",
      "benzene\t\t\t selenium.ipynb\r\n",
      "cdk2_mol1.o.png\t\t selenium-server-standalone-3.14.0.jar\r\n",
      "chro\t\t\t sil.log\r\n",
      "cleanipcs\t\t site.settings\r\n",
      "clustering.log\t\t Templates\r\n",
      "converted_alignment.aln  TensorMol\r\n",
      "data\t\t\t test.py\r\n",
      "datasets\t\t Tutorials\r\n",
      "densities\t\t uniprot20_2016_02.tar.gz\r\n",
      "Desktop\t\t\t Untitled10.ipynb\r\n",
      "Dft comparing.ipynb\t Untitled11.ipynb\r\n",
      "DNCON2\t\t\t Untitled12.ipynb\r\n",
      "docking_templates\t Untitled13.ipynb\r\n",
      "Documents\t\t Untitled14.ipynb\r\n",
      "Downloads\t\t Untitled15.ipynb\r\n",
      "environment.yml\t\t Untitled16.ipynb\r\n",
      "ffimpi.sh\t\t Untitled17.ipynb\r\n",
      "firefly\t\t\t Untitled1.ipynb\r\n",
      "flags\t\t\t Untitled2.ipynb\r\n",
      "ga_ligand_docking.ipynb  Untitled3.ipynb\r\n",
      "H_ACO_0_A_3pp9.pdb\t Untitled4.ipynb\r\n",
      "hmm\t\t\t Untitled5.ipynb\r\n",
      "libs\t\t\t Untitled6.ipynb\r\n",
      "logs\t\t\t Untitled7.ipynb\r\n",
      "molcas\t\t\t Untitled8.ipynb\r\n",
      "Music\t\t\t Untitled9.ipynb\r\n",
      "NAT-1_aco.pdb\t\t Untitled.ipynb\r\n",
      "NAT8L\t\t\t Videos\r\n",
      "nat8l_cm.db\t\t water.xyz\r\n",
      "nat8l.o\r\n"
     ]
    }
   ],
   "source": [
    "!ls"
   ]
  },
  {
   "cell_type": "code",
   "execution_count": 9,
   "metadata": {},
   "outputs": [],
   "source": [
    "import MDAnalysis.analysis.encore as encore\n"
   ]
  },
  {
   "cell_type": "code",
   "execution_count": 26,
   "metadata": {},
   "outputs": [
    {
     "name": "stderr",
     "output_type": "stream",
     "text": [
      "/home/akniga/anaconda3/lib/python3.6/site-packages/MDAnalysis/coordinates/base.py:822: UserWarning: Reader has no dt information, set to 1.0 ps\n",
      "  warnings.warn(\"Reader has no dt information, set to 1.0 ps\")\n",
      "/home/akniga/anaconda3/lib/python3.6/site-packages/numpy/core/fromnumeric.py:2909: RuntimeWarning: Mean of empty slice.\n",
      "  out=out, **kwargs)\n",
      "/home/akniga/anaconda3/lib/python3.6/site-packages/numpy/core/_methods.py:80: RuntimeWarning: invalid value encountered in double_scalars\n",
      "  ret = ret.dtype.type(ret / rcount)\n"
     ]
    },
    {
     "ename": "ZeroDivisionError",
     "evalue": "Weights sum to zero, can't be normalized",
     "output_type": "error",
     "traceback": [
      "\u001b[0;31m---------------------------------------------------------------------------\u001b[0m",
      "\u001b[0;31mZeroDivisionError\u001b[0m                         Traceback (most recent call last)",
      "\u001b[0;32m<ipython-input-26-f15af0d94010>\u001b[0m in \u001b[0;36m<module>\u001b[0;34m\u001b[0m\n\u001b[0;32m----> 1\u001b[0;31m \u001b[0mcluster_collection\u001b[0m \u001b[0;34m=\u001b[0m \u001b[0mencore\u001b[0m\u001b[0;34m.\u001b[0m\u001b[0mcluster\u001b[0m\u001b[0;34m(\u001b[0m\u001b[0mb\u001b[0m\u001b[0;34m)\u001b[0m\u001b[0;34m\u001b[0m\u001b[0m\n\u001b[0m",
      "\u001b[0;32m~/anaconda3/lib/python3.6/site-packages/MDAnalysis/analysis/encore/clustering/cluster.py\u001b[0m in \u001b[0;36mcluster\u001b[0;34m(ensembles, method, selection, distance_matrix, allow_collapsed_result, ncores, **kwargs)\u001b[0m\n\u001b[1;32m    198\u001b[0m                 distance_matrix.append(get_distance_matrix(merged_ensemble,\n\u001b[1;32m    199\u001b[0m                                                            \u001b[0mselection\u001b[0m\u001b[0;34m=\u001b[0m\u001b[0mselection\u001b[0m\u001b[0;34m,\u001b[0m\u001b[0;34m\u001b[0m\u001b[0m\n\u001b[0;32m--> 200\u001b[0;31m                                                            **kwargs))\n\u001b[0m\u001b[1;32m    201\u001b[0m \u001b[0;34m\u001b[0m\u001b[0m\n\u001b[1;32m    202\u001b[0m     \u001b[0margs\u001b[0m \u001b[0;34m=\u001b[0m \u001b[0;34m[\u001b[0m\u001b[0;34m]\u001b[0m\u001b[0;34m\u001b[0m\u001b[0m\n",
      "\u001b[0;32m~/anaconda3/lib/python3.6/site-packages/MDAnalysis/analysis/encore/confdistmatrix.py\u001b[0m in \u001b[0;36mget_distance_matrix\u001b[0;34m(ensemble, selection, load_matrix, save_matrix, superimpose, superimposition_subset, weights, n_jobs, verbose, *conf_dist_args, **conf_dist_kwargs)\u001b[0m\n\u001b[1;32m    361\u001b[0m                                                         \u001b[0mweights\u001b[0m\u001b[0;34m=\u001b[0m\u001b[0mweights\u001b[0m\u001b[0;34m,\u001b[0m\u001b[0;34m\u001b[0m\u001b[0m\n\u001b[1;32m    362\u001b[0m                                                         \u001b[0mn_jobs\u001b[0m\u001b[0;34m=\u001b[0m\u001b[0mn_jobs\u001b[0m\u001b[0;34m,\u001b[0m\u001b[0;34m\u001b[0m\u001b[0m\n\u001b[0;32m--> 363\u001b[0;31m                                                         verbose=verbose)\n\u001b[0m\u001b[1;32m    364\u001b[0m \u001b[0;34m\u001b[0m\u001b[0m\n\u001b[1;32m    365\u001b[0m         \u001b[0mlogging\u001b[0m\u001b[0;34m.\u001b[0m\u001b[0minfo\u001b[0m\u001b[0;34m(\u001b[0m\u001b[0;34m\"    Done!\"\u001b[0m\u001b[0;34m)\u001b[0m\u001b[0;34m\u001b[0m\u001b[0m\n",
      "\u001b[0;32m~/anaconda3/lib/python3.6/site-packages/MDAnalysis/analysis/encore/confdistmatrix.py\u001b[0m in \u001b[0;36mconformational_distance_matrix\u001b[0;34m(ensemble, conf_dist_function, selection, superimposition_selection, n_jobs, pairwise_align, weights, metadata, verbose)\u001b[0m\n\u001b[1;32m    175\u001b[0m         \u001b[0mweights\u001b[0m\u001b[0;34m,\u001b[0m\u001b[0;34m\u001b[0m\u001b[0m\n\u001b[1;32m    176\u001b[0m         \u001b[0mfitting_coordinates\u001b[0m\u001b[0;34m,\u001b[0m\u001b[0;34m\u001b[0m\u001b[0m\n\u001b[0;32m--> 177\u001b[0;31m         subset_weights) for element in indices)\n\u001b[0m\u001b[1;32m    178\u001b[0m \u001b[0;34m\u001b[0m\u001b[0m\n\u001b[1;32m    179\u001b[0m \u001b[0;34m\u001b[0m\u001b[0m\n",
      "\u001b[0;32m~/anaconda3/lib/python3.6/site-packages/joblib/parallel.py\u001b[0m in \u001b[0;36m__call__\u001b[0;34m(self, iterable)\u001b[0m\n\u001b[1;32m    981\u001b[0m             \u001b[0;31m# remaining jobs.\u001b[0m\u001b[0;34m\u001b[0m\u001b[0;34m\u001b[0m\u001b[0m\n\u001b[1;32m    982\u001b[0m             \u001b[0mself\u001b[0m\u001b[0;34m.\u001b[0m\u001b[0m_iterating\u001b[0m \u001b[0;34m=\u001b[0m \u001b[0;32mFalse\u001b[0m\u001b[0;34m\u001b[0m\u001b[0m\n\u001b[0;32m--> 983\u001b[0;31m             \u001b[0;32mif\u001b[0m \u001b[0mself\u001b[0m\u001b[0;34m.\u001b[0m\u001b[0mdispatch_one_batch\u001b[0m\u001b[0;34m(\u001b[0m\u001b[0miterator\u001b[0m\u001b[0;34m)\u001b[0m\u001b[0;34m:\u001b[0m\u001b[0;34m\u001b[0m\u001b[0m\n\u001b[0m\u001b[1;32m    984\u001b[0m                 \u001b[0mself\u001b[0m\u001b[0;34m.\u001b[0m\u001b[0m_iterating\u001b[0m \u001b[0;34m=\u001b[0m \u001b[0mself\u001b[0m\u001b[0;34m.\u001b[0m\u001b[0m_original_iterator\u001b[0m \u001b[0;32mis\u001b[0m \u001b[0;32mnot\u001b[0m \u001b[0;32mNone\u001b[0m\u001b[0;34m\u001b[0m\u001b[0m\n\u001b[1;32m    985\u001b[0m \u001b[0;34m\u001b[0m\u001b[0m\n",
      "\u001b[0;32m~/anaconda3/lib/python3.6/site-packages/joblib/parallel.py\u001b[0m in \u001b[0;36mdispatch_one_batch\u001b[0;34m(self, iterator)\u001b[0m\n\u001b[1;32m    823\u001b[0m                 \u001b[0;32mreturn\u001b[0m \u001b[0;32mFalse\u001b[0m\u001b[0;34m\u001b[0m\u001b[0m\n\u001b[1;32m    824\u001b[0m             \u001b[0;32melse\u001b[0m\u001b[0;34m:\u001b[0m\u001b[0;34m\u001b[0m\u001b[0m\n\u001b[0;32m--> 825\u001b[0;31m                 \u001b[0mself\u001b[0m\u001b[0;34m.\u001b[0m\u001b[0m_dispatch\u001b[0m\u001b[0;34m(\u001b[0m\u001b[0mtasks\u001b[0m\u001b[0;34m)\u001b[0m\u001b[0;34m\u001b[0m\u001b[0m\n\u001b[0m\u001b[1;32m    826\u001b[0m                 \u001b[0;32mreturn\u001b[0m \u001b[0;32mTrue\u001b[0m\u001b[0;34m\u001b[0m\u001b[0m\n\u001b[1;32m    827\u001b[0m \u001b[0;34m\u001b[0m\u001b[0m\n",
      "\u001b[0;32m~/anaconda3/lib/python3.6/site-packages/joblib/parallel.py\u001b[0m in \u001b[0;36m_dispatch\u001b[0;34m(self, batch)\u001b[0m\n\u001b[1;32m    780\u001b[0m         \u001b[0;32mwith\u001b[0m \u001b[0mself\u001b[0m\u001b[0;34m.\u001b[0m\u001b[0m_lock\u001b[0m\u001b[0;34m:\u001b[0m\u001b[0;34m\u001b[0m\u001b[0m\n\u001b[1;32m    781\u001b[0m             \u001b[0mjob_idx\u001b[0m \u001b[0;34m=\u001b[0m \u001b[0mlen\u001b[0m\u001b[0;34m(\u001b[0m\u001b[0mself\u001b[0m\u001b[0;34m.\u001b[0m\u001b[0m_jobs\u001b[0m\u001b[0;34m)\u001b[0m\u001b[0;34m\u001b[0m\u001b[0m\n\u001b[0;32m--> 782\u001b[0;31m             \u001b[0mjob\u001b[0m \u001b[0;34m=\u001b[0m \u001b[0mself\u001b[0m\u001b[0;34m.\u001b[0m\u001b[0m_backend\u001b[0m\u001b[0;34m.\u001b[0m\u001b[0mapply_async\u001b[0m\u001b[0;34m(\u001b[0m\u001b[0mbatch\u001b[0m\u001b[0;34m,\u001b[0m \u001b[0mcallback\u001b[0m\u001b[0;34m=\u001b[0m\u001b[0mcb\u001b[0m\u001b[0;34m)\u001b[0m\u001b[0;34m\u001b[0m\u001b[0m\n\u001b[0m\u001b[1;32m    783\u001b[0m             \u001b[0;31m# A job can complete so quickly than its callback is\u001b[0m\u001b[0;34m\u001b[0m\u001b[0;34m\u001b[0m\u001b[0m\n\u001b[1;32m    784\u001b[0m             \u001b[0;31m# called before we get here, causing self._jobs to\u001b[0m\u001b[0;34m\u001b[0m\u001b[0;34m\u001b[0m\u001b[0m\n",
      "\u001b[0;32m~/anaconda3/lib/python3.6/site-packages/joblib/_parallel_backends.py\u001b[0m in \u001b[0;36mapply_async\u001b[0;34m(self, func, callback)\u001b[0m\n\u001b[1;32m    180\u001b[0m     \u001b[0;32mdef\u001b[0m \u001b[0mapply_async\u001b[0m\u001b[0;34m(\u001b[0m\u001b[0mself\u001b[0m\u001b[0;34m,\u001b[0m \u001b[0mfunc\u001b[0m\u001b[0;34m,\u001b[0m \u001b[0mcallback\u001b[0m\u001b[0;34m=\u001b[0m\u001b[0;32mNone\u001b[0m\u001b[0;34m)\u001b[0m\u001b[0;34m:\u001b[0m\u001b[0;34m\u001b[0m\u001b[0m\n\u001b[1;32m    181\u001b[0m         \u001b[0;34m\"\"\"Schedule a func to be run\"\"\"\u001b[0m\u001b[0;34m\u001b[0m\u001b[0m\n\u001b[0;32m--> 182\u001b[0;31m         \u001b[0mresult\u001b[0m \u001b[0;34m=\u001b[0m \u001b[0mImmediateResult\u001b[0m\u001b[0;34m(\u001b[0m\u001b[0mfunc\u001b[0m\u001b[0;34m)\u001b[0m\u001b[0;34m\u001b[0m\u001b[0m\n\u001b[0m\u001b[1;32m    183\u001b[0m         \u001b[0;32mif\u001b[0m \u001b[0mcallback\u001b[0m\u001b[0;34m:\u001b[0m\u001b[0;34m\u001b[0m\u001b[0m\n\u001b[1;32m    184\u001b[0m             \u001b[0mcallback\u001b[0m\u001b[0;34m(\u001b[0m\u001b[0mresult\u001b[0m\u001b[0;34m)\u001b[0m\u001b[0;34m\u001b[0m\u001b[0m\n",
      "\u001b[0;32m~/anaconda3/lib/python3.6/site-packages/joblib/_parallel_backends.py\u001b[0m in \u001b[0;36m__init__\u001b[0;34m(self, batch)\u001b[0m\n\u001b[1;32m    543\u001b[0m         \u001b[0;31m# Don't delay the application, to avoid keeping the input\u001b[0m\u001b[0;34m\u001b[0m\u001b[0;34m\u001b[0m\u001b[0m\n\u001b[1;32m    544\u001b[0m         \u001b[0;31m# arguments in memory\u001b[0m\u001b[0;34m\u001b[0m\u001b[0;34m\u001b[0m\u001b[0m\n\u001b[0;32m--> 545\u001b[0;31m         \u001b[0mself\u001b[0m\u001b[0;34m.\u001b[0m\u001b[0mresults\u001b[0m \u001b[0;34m=\u001b[0m \u001b[0mbatch\u001b[0m\u001b[0;34m(\u001b[0m\u001b[0;34m)\u001b[0m\u001b[0;34m\u001b[0m\u001b[0m\n\u001b[0m\u001b[1;32m    546\u001b[0m \u001b[0;34m\u001b[0m\u001b[0m\n\u001b[1;32m    547\u001b[0m     \u001b[0;32mdef\u001b[0m \u001b[0mget\u001b[0m\u001b[0;34m(\u001b[0m\u001b[0mself\u001b[0m\u001b[0;34m)\u001b[0m\u001b[0;34m:\u001b[0m\u001b[0;34m\u001b[0m\u001b[0m\n",
      "\u001b[0;32m~/anaconda3/lib/python3.6/site-packages/joblib/parallel.py\u001b[0m in \u001b[0;36m__call__\u001b[0;34m(self)\u001b[0m\n\u001b[1;32m    259\u001b[0m         \u001b[0;32mwith\u001b[0m \u001b[0mparallel_backend\u001b[0m\u001b[0;34m(\u001b[0m\u001b[0mself\u001b[0m\u001b[0;34m.\u001b[0m\u001b[0m_backend\u001b[0m\u001b[0;34m)\u001b[0m\u001b[0;34m:\u001b[0m\u001b[0;34m\u001b[0m\u001b[0m\n\u001b[1;32m    260\u001b[0m             return [func(*args, **kwargs)\n\u001b[0;32m--> 261\u001b[0;31m                     for func, args, kwargs in self.items]\n\u001b[0m\u001b[1;32m    262\u001b[0m \u001b[0;34m\u001b[0m\u001b[0m\n\u001b[1;32m    263\u001b[0m     \u001b[0;32mdef\u001b[0m \u001b[0m__len__\u001b[0m\u001b[0;34m(\u001b[0m\u001b[0mself\u001b[0m\u001b[0;34m)\u001b[0m\u001b[0;34m:\u001b[0m\u001b[0;34m\u001b[0m\u001b[0m\n",
      "\u001b[0;32m~/anaconda3/lib/python3.6/site-packages/joblib/parallel.py\u001b[0m in \u001b[0;36m<listcomp>\u001b[0;34m(.0)\u001b[0m\n\u001b[1;32m    259\u001b[0m         \u001b[0;32mwith\u001b[0m \u001b[0mparallel_backend\u001b[0m\u001b[0;34m(\u001b[0m\u001b[0mself\u001b[0m\u001b[0;34m.\u001b[0m\u001b[0m_backend\u001b[0m\u001b[0;34m)\u001b[0m\u001b[0;34m:\u001b[0m\u001b[0;34m\u001b[0m\u001b[0m\n\u001b[1;32m    260\u001b[0m             return [func(*args, **kwargs)\n\u001b[0;32m--> 261\u001b[0;31m                     for func, args, kwargs in self.items]\n\u001b[0m\u001b[1;32m    262\u001b[0m \u001b[0;34m\u001b[0m\u001b[0m\n\u001b[1;32m    263\u001b[0m     \u001b[0;32mdef\u001b[0m \u001b[0m__len__\u001b[0m\u001b[0;34m(\u001b[0m\u001b[0mself\u001b[0m\u001b[0;34m)\u001b[0m\u001b[0;34m:\u001b[0m\u001b[0;34m\u001b[0m\u001b[0m\n",
      "\u001b[0;32m~/anaconda3/lib/python3.6/site-packages/MDAnalysis/analysis/encore/confdistmatrix.py\u001b[0m in \u001b[0;36mset_rmsd_matrix_elements\u001b[0;34m(tasks, coords, rmsdmat, weights, fit_coords, fit_weights, *args, **kwargs)\u001b[0m\n\u001b[1;32m    230\u001b[0m         \u001b[0msubset_weights\u001b[0m \u001b[0;34m=\u001b[0m \u001b[0mnp\u001b[0m\u001b[0;34m.\u001b[0m\u001b[0masarray\u001b[0m\u001b[0;34m(\u001b[0m\u001b[0mfit_weights\u001b[0m\u001b[0;34m)\u001b[0m \u001b[0;34m/\u001b[0m \u001b[0mnp\u001b[0m\u001b[0;34m.\u001b[0m\u001b[0mmean\u001b[0m\u001b[0;34m(\u001b[0m\u001b[0mfit_weights\u001b[0m\u001b[0;34m)\u001b[0m\u001b[0;34m\u001b[0m\u001b[0m\n\u001b[1;32m    231\u001b[0m         com_i = np.average(fit_coords[i], axis=0,\n\u001b[0;32m--> 232\u001b[0;31m                            weights=fit_weights)\n\u001b[0m\u001b[1;32m    233\u001b[0m         \u001b[0mtranslated_i\u001b[0m \u001b[0;34m=\u001b[0m \u001b[0mcoords\u001b[0m\u001b[0;34m[\u001b[0m\u001b[0mi\u001b[0m\u001b[0;34m]\u001b[0m \u001b[0;34m-\u001b[0m \u001b[0mcom_i\u001b[0m\u001b[0;34m\u001b[0m\u001b[0m\n\u001b[1;32m    234\u001b[0m         \u001b[0msubset1_coords\u001b[0m \u001b[0;34m=\u001b[0m \u001b[0mfit_coords\u001b[0m\u001b[0;34m[\u001b[0m\u001b[0mi\u001b[0m\u001b[0;34m]\u001b[0m \u001b[0;34m-\u001b[0m \u001b[0mcom_i\u001b[0m\u001b[0;34m\u001b[0m\u001b[0m\n",
      "\u001b[0;32m~/anaconda3/lib/python3.6/site-packages/numpy/lib/function_base.py\u001b[0m in \u001b[0;36maverage\u001b[0;34m(a, axis, weights, returned)\u001b[0m\n\u001b[1;32m   1138\u001b[0m         \u001b[0;32mif\u001b[0m \u001b[0mnp\u001b[0m\u001b[0;34m.\u001b[0m\u001b[0many\u001b[0m\u001b[0;34m(\u001b[0m\u001b[0mscl\u001b[0m \u001b[0;34m==\u001b[0m \u001b[0;36m0.0\u001b[0m\u001b[0;34m)\u001b[0m\u001b[0;34m:\u001b[0m\u001b[0;34m\u001b[0m\u001b[0m\n\u001b[1;32m   1139\u001b[0m             raise ZeroDivisionError(\n\u001b[0;32m-> 1140\u001b[0;31m                 \"Weights sum to zero, can't be normalized\")\n\u001b[0m\u001b[1;32m   1141\u001b[0m \u001b[0;34m\u001b[0m\u001b[0m\n\u001b[1;32m   1142\u001b[0m         \u001b[0mavg\u001b[0m \u001b[0;34m=\u001b[0m \u001b[0mnp\u001b[0m\u001b[0;34m.\u001b[0m\u001b[0mmultiply\u001b[0m\u001b[0;34m(\u001b[0m\u001b[0ma\u001b[0m\u001b[0;34m,\u001b[0m \u001b[0mwgt\u001b[0m\u001b[0;34m,\u001b[0m \u001b[0mdtype\u001b[0m\u001b[0;34m=\u001b[0m\u001b[0mresult_dtype\u001b[0m\u001b[0;34m)\u001b[0m\u001b[0;34m.\u001b[0m\u001b[0msum\u001b[0m\u001b[0;34m(\u001b[0m\u001b[0maxis\u001b[0m\u001b[0;34m)\u001b[0m\u001b[0;34m/\u001b[0m\u001b[0mscl\u001b[0m\u001b[0;34m\u001b[0m\u001b[0m\n",
      "\u001b[0;31mZeroDivisionError\u001b[0m: Weights sum to zero, can't be normalized"
     ]
    }
   ],
   "source": [
    "cluster_collection = encore.cluster(b)"
   ]
  },
  {
   "cell_type": "code",
   "execution_count": 10,
   "metadata": {},
   "outputs": [],
   "source": [
    "from MDAnalysis.tests.datafiles import PSF, DCD, DCD2\n",
    "ens1 = mda.Universe(PSF, DCD)\n",
    "ens2 = mda.Universe(PSF, DCD2)\n",
    "cluster_collection = encore.cluster([ens1,ens2])\n"
   ]
  },
  {
   "cell_type": "code",
   "execution_count": 11,
   "metadata": {},
   "outputs": [
    {
     "name": "stdout",
     "output_type": "stream",
     "text": [
      "0 (size:5,centroid:1): array([ 0,  1,  2,  3, 98])\n",
      "1 (size:5,centroid:6): array([4, 5, 6, 7, 8])\n",
      "2 (size:7,centroid:12): array([ 9, 10, 11, 12, 13, 14, 15])\n",
      "3 (size:6,centroid:18): array([16, 17, 18, 19, 20, 21])\n",
      "4 (size:6,centroid:25): array([22, 23, 24, 25, 26, 27])\n",
      "5 (size:6,centroid:31): array([28, 29, 30, 31, 32, 33])\n",
      "6 (size:4,centroid:36): array([34, 35, 36, 37])\n",
      "7 (size:6,centroid:40): array([38, 39, 40, 41, 42, 43])\n",
      "8 (size:4,centroid:46): array([44, 45, 46, 47])\n",
      "9 (size:5,centroid:50): array([48, 49, 50, 51, 52])\n",
      "10 (size:4,centroid:54): array([53, 54, 55, 56])\n",
      "11 (size:6,centroid:59): array([57, 58, 59, 60, 61, 62])\n",
      "12 (size:6,centroid:65): array([63, 64, 65, 66, 67, 68])\n",
      "13 (size:8,centroid:73): array([69, 70, 71, 72, 73, 74, 75, 76])\n",
      "14 (size:7,centroid:81): array([77, 78, 79, 80, 81, 82, 83])\n",
      "15 (size:7,centroid:87): array([84, 85, 86, 87, 88, 89, 90])\n",
      "16 (size:7,centroid:94): array([91, 92, 93, 94, 95, 96, 97])\n",
      "17 (size:5,centroid:101): array([ 99, 100, 101, 102, 103])\n",
      "18 (size:6,centroid:106): array([104, 105, 106, 107, 108, 109])\n",
      "19 (size:6,centroid:113): array([110, 111, 112, 113, 114, 115])\n",
      "20 (size:5,centroid:118): array([116, 117, 118, 119, 120])\n",
      "21 (size:5,centroid:123): array([121, 122, 123, 124, 125])\n",
      "22 (size:4,centroid:128): array([126, 127, 128, 129])\n",
      "23 (size:5,centroid:132): array([130, 131, 132, 133, 134])\n",
      "24 (size:6,centroid:138): array([135, 136, 137, 138, 139, 140])\n",
      "25 (size:4,centroid:142): array([141, 142, 143, 144])\n",
      "26 (size:6,centroid:148): array([145, 146, 147, 148, 149, 150])\n",
      "27 (size:4,centroid:153): array([151, 152, 153, 154])\n",
      "28 (size:5,centroid:157): array([155, 156, 157, 158, 159])\n",
      "29 (size:6,centroid:162): array([160, 161, 162, 163, 164, 165])\n",
      "30 (size:5,centroid:168): array([166, 167, 168, 169, 170])\n",
      "31 (size:6,centroid:174): array([171, 172, 173, 174, 175, 176])\n",
      "32 (size:9,centroid:181): array([177, 178, 179, 180, 181, 182, 183, 184, 185])\n",
      "33 (size:7,centroid:189): array([186, 187, 188, 189, 190, 191, 192])\n",
      "34 (size:7,centroid:196): array([193, 194, 195, 196, 197, 198, 199])\n",
      "\n"
     ]
    }
   ],
   "source": [
    "print(cluster_collection)"
   ]
  },
  {
   "cell_type": "code",
   "execution_count": 13,
   "metadata": {},
   "outputs": [],
   "source": [
    "import MDAnalysis.analysis.encore.confdistmatrix as cdm"
   ]
  },
  {
   "cell_type": "code",
   "execution_count": 16,
   "metadata": {},
   "outputs": [
    {
     "ename": "AttributeError",
     "evalue": "'XYZReader' object has no attribute 'transfer_to_memory'",
     "output_type": "error",
     "traceback": [
      "\u001b[0;31m---------------------------------------------------------------------------\u001b[0m",
      "\u001b[0;31mAttributeError\u001b[0m                            Traceback (most recent call last)",
      "\u001b[0;32m<ipython-input-16-8a88c908427a>\u001b[0m in \u001b[0;36m<module>\u001b[0;34m\u001b[0m\n\u001b[0;32m----> 1\u001b[0;31m \u001b[0mdm\u001b[0m \u001b[0;34m=\u001b[0m \u001b[0mcdm\u001b[0m\u001b[0;34m.\u001b[0m\u001b[0mget_distance_matrix\u001b[0m\u001b[0;34m(\u001b[0m\u001b[0ma\u001b[0m\u001b[0;34m)\u001b[0m\u001b[0;34m\u001b[0m\u001b[0m\n\u001b[0m",
      "\u001b[0;32m~/anaconda3/lib/python3.6/site-packages/MDAnalysis/analysis/encore/confdistmatrix.py\u001b[0m in \u001b[0;36mget_distance_matrix\u001b[0;34m(ensemble, selection, load_matrix, save_matrix, superimpose, superimposition_subset, weights, n_jobs, verbose, *conf_dist_args, **conf_dist_kwargs)\u001b[0m\n\u001b[1;32m    336\u001b[0m \u001b[0;34m\u001b[0m\u001b[0m\n\u001b[1;32m    337\u001b[0m         \u001b[0;31m# Transfer universe to memory to ensure timeseries() support\u001b[0m\u001b[0;34m\u001b[0m\u001b[0;34m\u001b[0m\u001b[0m\n\u001b[0;32m--> 338\u001b[0;31m         \u001b[0mensemble\u001b[0m\u001b[0;34m.\u001b[0m\u001b[0mtransfer_to_memory\u001b[0m\u001b[0;34m(\u001b[0m\u001b[0;34m)\u001b[0m\u001b[0;34m\u001b[0m\u001b[0m\n\u001b[0m\u001b[1;32m    339\u001b[0m \u001b[0;34m\u001b[0m\u001b[0m\n\u001b[1;32m    340\u001b[0m         \u001b[0;32mif\u001b[0m \u001b[0;32mnot\u001b[0m \u001b[0misinstance\u001b[0m\u001b[0;34m(\u001b[0m\u001b[0mweights\u001b[0m\u001b[0;34m,\u001b[0m \u001b[0;34m(\u001b[0m\u001b[0mlist\u001b[0m\u001b[0;34m,\u001b[0m \u001b[0mtuple\u001b[0m\u001b[0;34m,\u001b[0m \u001b[0mnp\u001b[0m\u001b[0;34m.\u001b[0m\u001b[0mndarray\u001b[0m\u001b[0;34m)\u001b[0m\u001b[0;34m)\u001b[0m \u001b[0;32mand\u001b[0m \u001b[0mweights\u001b[0m \u001b[0;34m==\u001b[0m \u001b[0;34m'mass'\u001b[0m\u001b[0;34m:\u001b[0m\u001b[0;34m\u001b[0m\u001b[0m\n",
      "\u001b[0;31mAttributeError\u001b[0m: 'XYZReader' object has no attribute 'transfer_to_memory'"
     ]
    }
   ],
   "source": [
    "dm = cdm.get_distance_matrix(a)"
   ]
  },
  {
   "cell_type": "code",
   "execution_count": null,
   "metadata": {},
   "outputs": [],
   "source": []
  }
 ],
 "metadata": {
  "kernelspec": {
   "display_name": "Python 3",
   "language": "python",
   "name": "python3"
  },
  "language_info": {
   "codemirror_mode": {
    "name": "ipython",
    "version": 3
   },
   "file_extension": ".py",
   "mimetype": "text/x-python",
   "name": "python",
   "nbconvert_exporter": "python",
   "pygments_lexer": "ipython3",
   "version": "3.6.6"
  }
 },
 "nbformat": 4,
 "nbformat_minor": 2
}
